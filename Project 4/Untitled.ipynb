{
 "cells": [
  {
   "cell_type": "markdown",
   "id": "11a11cb9",
   "metadata": {},
   "source": [
    "# Method 1"
   ]
  },
  {
   "cell_type": "code",
   "execution_count": 1,
   "id": "da1eb38f",
   "metadata": {},
   "outputs": [
    {
     "data": {
      "text/latex": [
       "$\\displaystyle 10.0 x - 6.55773442563799 \\cdot 10^{-11} e^{8.88888888888889 x} - 4.99999999441592$"
      ],
      "text/plain": [
       "10.0*x - 6.55773442563799e-11*exp(8.88888888888889*x) - 4.99999999441592"
      ]
     },
     "execution_count": 1,
     "metadata": {},
     "output_type": "execute_result"
    }
   ],
   "source": [
    "from sympy import symbols, Function, Eq, dsolve, Derivative, solve\n",
    "\n",
    "x = symbols('x')\n",
    "v = Function('v')(x)\n",
    "mu = 0.1\n",
    "sigma = 0.15 ** 2  \n",
    "a = 0.5\n",
    "b = 3\n",
    "\n",
    "\n",
    "ode = Eq(Derivative(v, x, x) * (sigma / 2) - Derivative(v, x) * mu, -1)\n",
    "\n",
    "\n",
    "sol = dsolve(ode, v)\n",
    "\n",
    "\n",
    "C1, C2 = symbols('C1 C2') \n",
    "general_solution = sol.rhs \n",
    "\n",
    "boundary_conditions = [general_solution.subs(x, a) - 0, general_solution.subs(x, b) - 0]\n",
    "constants = solve(boundary_conditions, [C1, C2])\n",
    "\n",
    "particular_solution = general_solution.subs(constants)\n",
    "\n",
    "particular_solution\n"
   ]
  },
  {
   "cell_type": "markdown",
   "id": "e7434438",
   "metadata": {},
   "source": [
    "#  Method 2"
   ]
  },
  {
   "cell_type": "code",
   "execution_count": 2,
   "id": "ea4d0c02",
   "metadata": {},
   "outputs": [
    {
     "data": {
      "text/plain": [
       "(4.172972972972928, 999)"
      ]
     },
     "execution_count": 2,
     "metadata": {},
     "output_type": "execute_result"
    }
   ],
   "source": [
    "import numpy as np\n",
    "\n",
    "mu = 0.1\n",
    "sigma = 0.15\n",
    "X0 = 2\n",
    "a = 0.5  \n",
    "b = 3 \n",
    "dt = 0.01 \n",
    "N = 1000 \n",
    "T = 1000 \n",
    "\n",
    "exit_times = []\n",
    "\n",
    "for _ in range(N):\n",
    "    X = X0\n",
    "    t = 0\n",
    "    for _ in range(T):\n",
    "        dW = np.random.normal(0, np.sqrt(dt))\n",
    "        X += mu * X * dt + sigma * dW  \n",
    "        t += dt\n",
    "        if X <= a or X >= b:\n",
    "            exit_times.append(t)\n",
    "            break\n",
    "\n",
    "\n",
    "mean_exit_time = np.mean(exit_times)\n",
    "\n",
    "mean_exit_time, len(exit_times)  "
   ]
  },
  {
   "cell_type": "code",
   "execution_count": 3,
   "id": "bc1bcc5f",
   "metadata": {},
   "outputs": [
    {
     "data": {
      "image/png": "[encoded data removed]",
      "text/plain": [
       "<Figure size 640x480 with 1 Axes>"
      ]
     },
     "metadata": {},
     "output_type": "display_data"
    }
   ],
   "source": [
    "import matplotlib.pyplot as plt\n",
    "\n",
    "plt.hist(exit_times, bins=30, color='blue', edgecolor='black', alpha=0.7)\n",
    "plt.title('Histogram of Exit Times')\n",
    "plt.xlabel('Exit Time')\n",
    "plt.ylabel('Frequency')\n",
    "plt.grid(True)\n",
    "plt.show()\n"
   ]
  },
  {
   "cell_type": "code",
   "execution_count": null,
   "id": "67085c4e",
   "metadata": {},
   "outputs": [],
   "source": []
  }
 ],
 "metadata": {
  "kernelspec": {
   "display_name": "Python 3 (ipykernel)",
   "language": "python",
   "name": "python3"
  },
  "language_info": {
   "codemirror_mode": {
    "name": "ipython",
    "version": 3
   },
   "file_extension": ".py",
   "mimetype": "text/x-python",
   "name": "python",
   "nbconvert_exporter": "python",
   "pygments_lexer": "ipython3",
   "version": "3.11.7"
  }
 },
 "nbformat": 4,
 "nbformat_minor": 5
}

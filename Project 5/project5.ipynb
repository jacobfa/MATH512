{
 "cells": [
  {
   "cell_type": "code",
   "execution_count": 1,
   "metadata": {},
   "outputs": [],
   "source": [
    "import numpy as np\n",
    "import pandas as pd\n",
    "import matplotlib.pyplot as plt\n",
    "import seaborn as sns\n",
    "import torch\n",
    "import torch.nn as nn\n",
    "import torch.optim as optim\n",
    "from torch.utils.data import DataLoader, Dataset\n",
    "import torch.nn.functional as F\n",
    "import datetime \n",
    "# norm\n",
    "import scipy.stats as stats\n",
    "# optimzie\n",
    "import scipy.optimize as optimize\n",
    "sns.set_style('whitegrid')"
   ]
  },
  {
   "cell_type": "code",
   "execution_count": 2,
   "metadata": {},
   "outputs": [],
   "source": [
    "df = pd.read_csv('./data/TSLA.csv')\n",
    "# Date,Open,High,Low,Close,Adj Close,Volume\n",
    "df = df.sort_values('Date')\n",
    "df = df.reset_index(drop=True)\n",
    "df = df.dropna()\n",
    "df['Date'] = pd.to_datetime(df['Date'])\n",
    "# just get the close price\n",
    "df = df[['Date', 'Close']]\n",
    "df = df.set_index('Date')\n",
    "df = df.resample('D').ffill()\n",
    "# np array\n",
    "data = df['Close'].values\n",
    "data = data.reshape(-1, 1)"
   ]
  },
  {
   "cell_type": "code",
   "execution_count": 3,
   "metadata": {},
   "outputs": [
    {
     "name": "stdout",
     "output_type": "stream",
     "text": [
      "Historical Volatility: 0.2676814905073086\n"
     ]
    }
   ],
   "source": [
    "# Estimate historical volatility of the data \n",
    "returns = np.log(data[1:] / data[:-1])\n",
    "r_bar = np.mean(returns)\n",
    "std = np.std(returns)\n",
    "# 6 months = T\n",
    "T = (1/2) * 252\n",
    "N = len(returns)\n",
    "volatility = np.sqrt ( (T / (N - 1)) * np.sum((returns - r_bar)**2) )\n",
    "print('Historical Volatility:', volatility)"
   ]
  },
  {
   "cell_type": "code",
   "execution_count": 4,
   "metadata": {},
   "outputs": [
    {
     "name": "stdout",
     "output_type": "stream",
     "text": [
      "Binomial Tree Option Price: 18.380880505010143\n"
     ]
    }
   ],
   "source": [
    "# Use the binomial tree approach to estimate the price of a Jun 2024 European call option , where 𝑟 = 0.05 ,\n",
    "# 𝑆0 = 𝑐𝑢𝑟𝑟𝑒𝑛𝑡 𝑝𝑟𝑖𝑐𝑒 ,𝐾 = 𝑆0 + $50\n",
    "# TTSLA Jun 21 2024 150.000 call\n",
    "# prices = data\n",
    "# r = 0.05\n",
    "# S0 = prices[-1]\n",
    "# K = S0 + 50\n",
    "# T = 2\n",
    "# sigma = 0.9390\n",
    "\n",
    "\n",
    "prices = data\n",
    "r = 0.05\n",
    "S0 = prices[-1]\n",
    "K = S0 + 50\n",
    "# get days until expiration\n",
    "days = (datetime.datetime(2024, 6, 21) - datetime.datetime(2022, 6, 21)).days\n",
    "T = days / 252\n",
    "sigma = volatility\n",
    "\n",
    "# Binomial tree\n",
    "def binomial_tree(S0, K, T, r, sigma, N, option_type='call'):\n",
    "    dt = T / N\n",
    "    u = np.exp(sigma * np.sqrt(dt))\n",
    "    d = 1 / u\n",
    "    p = (np.exp(r * dt) - d) / (u - d)\n",
    "    prices = np.zeros((N + 1, N + 1))\n",
    "    prices[0, 0] = S0[0] if isinstance(S0, np.ndarray) else S0\n",
    "\n",
    "    for i in range(1, N + 1):\n",
    "        prices[i, 0] = prices[i - 1, 0] * u\n",
    "        for j in range(1, i + 1):\n",
    "            prices[i, j] = prices[i - 1, j - 1] * d\n",
    "    option_prices = np.zeros((N + 1, N + 1))\n",
    "    if option_type == 'call':\n",
    "        option_prices[-1] = np.maximum(prices[-1] - K, 0)\n",
    "    else:\n",
    "        option_prices[-1] = np.maximum(K - prices[-1], 0)\n",
    "    for i in range(N - 1, -1, -1):\n",
    "        for j in range(i + 1):\n",
    "            option_prices[i, j] = np.exp(-r * dt) * (p * option_prices[i + 1, j] + (1 - p) * option_prices[i + 1, j + 1])\n",
    "    return option_prices[0, 0]\n",
    "\n",
    "N = 100\n",
    "option_price = binomial_tree(S0, K, T, r, sigma, N)\n",
    "print('Binomial Tree Option Price:', option_price)"
   ]
  },
  {
   "cell_type": "code",
   "execution_count": 5,
   "metadata": {},
   "outputs": [],
   "source": [
    "# Investigate the convergence rate of the binomial method as a function of the number of partitions of your time\n",
    "# to expiration. Draw a graph\n",
    "\n",
    "N = np.arange(10, 1000, 10)\n",
    "option_prices = []\n",
    "for n in N:\n",
    "    option_price = binomial_tree(S0, K, T, r, sigma, n)\n",
    "    option_prices.append(option_price)\n",
    "\n",
    "# horizontal dashed red line for the converging price\n",
    "plt.axhline(y=option_prices[-1], color='r', linestyle='--')\n",
    "plt.plot(N, option_prices)\n",
    "plt.xlabel('Number of Partitions')\n",
    "plt.ylabel('Option Price')\n",
    "plt.title('Binomial Tree Option Price Convergence')\n",
    "plt.show()"
   ]
  },
  {
   "cell_type": "code",
   "execution_count": null,
   "metadata": {},
   "outputs": [
    {
     "name": "stdout",
     "output_type": "stream",
     "text": [
      "Binomial Tree Option Price: 41.77675909788556\n"
     ]
    }
   ],
   "source": [
    "# Use the binomial tree approach to estimate the price of a Jun 2024 American put option , where 𝑟 = 0.05 ,\n",
    "# 𝑆0 = 𝑐𝑢𝑟𝑟𝑒𝑛𝑡 𝑝𝑟𝑖𝑐𝑒 ,𝐾 = 𝑆0 + $50\n",
    "# TTSLA Jun 21 2024 150.000 put\n",
    "\n",
    "K = S0 + 50\n",
    "prices = data\n",
    "r = 0.05\n",
    "S0 = prices[-1]\n",
    "T = days / 252\n",
    "sigma = volatility\n",
    "N = 100\n",
    "\n",
    "option_price = binomial_tree(S0, K, T, r, sigma, N, option_type='put')\n",
    "print('Binomial Tree Option Price:', option_price)"
   ]
  },
  {
   "cell_type": "code",
   "execution_count": null,
   "metadata": {},
   "outputs": [
    {
     "name": "stdout",
     "output_type": "stream",
     "text": [
      "Black-Scholes Call Option Price: [18.38632482]\n",
      "Black-Scholes Put Option Price: [41.78220341]\n"
     ]
    }
   ],
   "source": [
    "# e) Use B-S formula to calculate the price of a Jun 2024 European call option , where 𝑟 = 0.05 , 𝑆0 =\n",
    "# 𝑐𝑢𝑟𝑟𝑒𝑛𝑡 𝑝𝑟𝑖𝑐𝑒 ,𝐾 = 𝑆0 + $50. Use the put-call parity relation to calculate the price of a corresponding put\n",
    "# option. Calculate the Delta, Gamma, Vega, rho of this option at the start of the option’s life.\n",
    "\n",
    "def black_scholes(S0, K, T, r, sigma, option_type='call'):\n",
    "    d1 = (np.log(S0 / K) + (r + 0.5 * sigma**2) * T) / (sigma * np.sqrt(T))\n",
    "    d2 = d1 - sigma * np.sqrt(T)\n",
    "    if option_type == 'call':\n",
    "        price = S0 * stats.norm.cdf(d1) - K * np.exp(-r * T) * stats.norm.cdf(d2)\n",
    "    else:\n",
    "        price = K * np.exp(-r * T) * stats.norm.cdf(-d2) - S0 * stats.norm.cdf(-d1)\n",
    "    return price\n",
    "\n",
    "\n",
    "S0 = prices[-1]\n",
    "K = S0 + 50\n",
    "T = days / 252\n",
    "r = 0.05\n",
    "sigma = volatility\n",
    "\n",
    "call_price = black_scholes(S0, K, T, r, sigma)\n",
    "put_price = black_scholes(S0, K, T, r, sigma, option_type='put')\n",
    "print('Black-Scholes Call Option Price:', call_price)\n",
    "print('Black-Scholes Put Option Price:', put_price)"
   ]
  },
  {
   "cell_type": "code",
   "execution_count": null,
   "metadata": {},
   "outputs": [
    {
     "name": "stdout",
     "output_type": "stream",
     "text": [
      "Delta: [0.46180193]\n",
      "Gamma: [0.0059234]\n",
      "Vega: [99.44887417]\n",
      "Rho: [143.63108982]\n"
     ]
    }
   ],
   "source": [
    "delta = (black_scholes(S0 + 0.01, K, T, r, sigma) - black_scholes(S0 - 0.01, K, T, r, sigma)) / 0.02\n",
    "gamma = (black_scholes(S0 + 0.01, K, T, r, sigma) - 2 * black_scholes(S0, K, T, r, sigma) + black_scholes(S0 - 0.01, K, T, r, sigma)) / 0.01**2\n",
    "vega = (black_scholes(S0, K, T, r, sigma + 0.01) - black_scholes(S0, K, T, r, sigma - 0.01)) / 0.02\n",
    "rho = (black_scholes(S0, K, T, r + 0.01, sigma) - black_scholes(S0, K, T, r - 0.01, sigma)) / 0.02\n",
    "\n",
    "print('Delta:', delta)\n",
    "print('Gamma:', gamma)\n",
    "print('Vega:', vega)\n",
    "print('Rho:', rho)"
   ]
  },
  {
   "cell_type": "code",
   "execution_count": null,
   "metadata": {},
   "outputs": [
    {
     "name": "stdout",
     "output_type": "stream",
     "text": [
      "Monte Carlo Option Price: 0.0\n"
     ]
    },
    {
     "data": {
      "image/png": "[encoded data removed]",
      "text/plain": [
       "<Figure size 640x480 with 1 Axes>"
      ]
     },
     "metadata": {},
     "output_type": "display_data"
    }
   ],
   "source": [
    "# Use a simple Monte Carlo method to estimate the price of a Jun 2024 European call option, where 𝑟 = 0.05\n",
    "# 𝑆0 = 𝑐𝑢𝑟𝑟𝑒𝑛𝑡 𝑝𝑟𝑖𝑐𝑒 ,𝐾 = 𝑆0 + $50. Compare your answer with parts b) and e)\n",
    "\n",
    "def monte_carlo(S0, K, T, r, sigma, N, option_type='call'):\n",
    "    dt = T / N\n",
    "    prices = np.zeros(N + 1)\n",
    "    prices[0] = S0[0] if isinstance(S0, np.ndarray) else S0\n",
    "    for i in range(1, N + 1):\n",
    "        prices[i] = prices[i - 1] * np.exp((r - 0.5 * sigma**2) * dt + sigma * np.sqrt(dt) * np.random.normal())\n",
    "    if option_type == 'call':\n",
    "        payoff = np.maximum(prices[-1] - K, 0)\n",
    "    else:\n",
    "        payoff = np.maximum(K - prices[-1], 0)\n",
    "    price = np.exp(-r * T) * np.mean(payoff)\n",
    "    return price\n",
    "\n",
    "S0 = prices[-1]\n",
    "K = S0 + 50\n",
    "T = days / 252\n",
    "r = 0.05\n",
    "sigma = volatility\n",
    "N = 1000\n",
    "\n",
    "option_price = monte_carlo(S0, K, T, r, sigma, N)\n",
    "print('Monte Carlo Option Price:', option_price)\n",
    "\n",
    "# plot a histogram of the option prices\n",
    "option_prices = [monte_carlo(S0, K, T, r, sigma, N) for _ in range(1000)]\n",
    "\n",
    "plt.hist(option_prices, bins=30)\n",
    "plt.xlabel('Option Price')\n",
    "plt.ylabel('Frequency')\n",
    "plt.title('Monte Carlo Option Price Distribution')\n",
    "plt.show()"
   ]
  },
  {
   "cell_type": "code",
   "execution_count": null,
   "metadata": {},
   "outputs": [
    {
     "name": "stdout",
     "output_type": "stream",
     "text": [
      "Monte Carlo Antithetic Option Price: 0.0\n"
     ]
    },
    {
     "data": {
      "image/png": "[encoded data removed]",
      "text/plain": [
       "<Figure size 640x480 with 1 Axes>"
      ]
     },
     "metadata": {},
     "output_type": "display_data"
    }
   ],
   "source": [
    "# g) Use a Monte Carlo method with Antithetic variates to estimate the price of a Jun 2024 European call option,\n",
    "# where 𝑟 = 0.05 , 𝑆0 = 𝑐𝑢𝑟𝑟𝑒𝑛𝑡 𝑝𝑟𝑖𝑐𝑒 ,𝐾 = 𝑆0 + $50. \n",
    "\n",
    "def monte_carlo_antithetic(S0, K, T, r, sigma, N, option_type='call'):\n",
    "    dt = T / N\n",
    "    prices = np.zeros(N + 1)\n",
    "    prices[0] = S0[0] if isinstance(S0, np.ndarray) else S0\n",
    "    for i in range(1, N + 1):\n",
    "        z1 = np.random.normal()\n",
    "        z2 = -z1\n",
    "        prices[i] = prices[i - 1] * np.exp((r - 0.5 * sigma**2) * dt + sigma * np.sqrt(dt) * z1)\n",
    "        prices[i] += prices[i - 1] * np.exp((r - 0.5 * sigma**2) * dt + sigma * np.sqrt(dt) * z2)\n",
    "        prices[i] /= 2\n",
    "    if option_type == 'call':\n",
    "        payoff = np.maximum(prices[-1] - K, 0)\n",
    "    else:\n",
    "        payoff = np.maximum(K - prices[-1], 0)\n",
    "    price = np.exp(-r * T) * np.mean(payoff)\n",
    "    return price\n",
    "\n",
    "S0 = prices[-1]\n",
    "K = S0 + 50\n",
    "T = days / 252\n",
    "r = 0.05\n",
    "sigma = volatility\n",
    "N = 1000\n",
    "\n",
    "option_price = monte_carlo_antithetic(S0, K, T, r, sigma, N)\n",
    "print('Monte Carlo Antithetic Option Price:', option_price)\n",
    "\n",
    "# plot a histogram of the option prices\n",
    "option_prices = [monte_carlo_antithetic(S0, K, T, r, sigma, N) for _ in range(1000)]\n",
    "\n",
    "plt.hist(option_prices, bins=30)\n",
    "plt.xlim([0.0, 0.05])\n",
    "plt.xlabel('Option Price')\n",
    "plt.ylabel('Frequency')\n",
    "plt.title('Monte Carlo Antithetic Option Price Distribution')\n",
    "plt.show()"
   ]
  },
  {
   "cell_type": "code",
   "execution_count": null,
   "metadata": {},
   "outputs": [],
   "source": [
    "# Use a Monte Carlo method with Control variables to estimate the price of a Jun 2024 European call option,\n",
    "# where 𝑟 = 0.05 , 𝑆0 = 𝑐𝑢𝑟𝑟𝑒𝑛𝑡 𝑝𝑟𝑖𝑐𝑒 ,𝐾 = 𝑆0 + $50. Compare f), g), h)\n",
    "\n",
    "def monte_carlo_control(S0, K, T, r, sigma, N, option_type='call'):\n",
    "    dt = T / N\n",
    "    prices = np.zeros(N + 1)\n",
    "    prices[0] = S0[0] if isinstance(S0, np.ndarray) else S0\n",
    "    for i in range(1, N + 1):\n",
    "        z = np.random.normal()\n",
    "        prices[i] = prices[i - 1] * np.exp((r - 0.5 * sigma**2) * dt + sigma * np.sqrt(dt) * z)\n",
    "    if option_type == 'call':\n",
    "        payoff = np.maximum(prices[-1] - K, 0)\n",
    "    else:\n",
    "        payoff = np.maximum(K - prices[-1], 0)\n",
    "    price = np.exp(-r * T) * np.mean(payoff)\n",
    "    return price\n",
    "\n",
    "S0 = prices[-1]\n",
    "K = S0 + 50\n",
    "T = days / 252\n",
    "r = 0.05\n",
    "sigma = volatility\n",
    "N = 1000\n",
    "\n",
    "option_price = monte_carlo_control(S0, K, T, r, sigma, N)\n",
    "print('Monte Carlo Control Option Price:', option_price)\n",
    "\n",
    "# plot a histogram of the option prices\n",
    "option_prices = [monte_carlo_control(S0, K, T, r, sigma, N) for _ in range(1000)]\n",
    "\n",
    "plt.hist(option_prices, bins=30)\n",
    "plt.xlabel('Option Price')\n",
    "plt.ylabel('Frequency')\n",
    "plt.title('Monte Carlo Control Option Price Distribution')\n",
    "plt.show()"
   ]
  },
  {
   "cell_type": "code",
   "execution_count": null,
   "metadata": {},
   "outputs": [],
   "source": [
    "# i) Estimate the implied volatility for the problem in part e). How does it compare with the historical volatility?\n",
    " \n",
    "def implied_volatility(S0, K, T, r, price, option_type='call'):\n",
    "    def f(sigma):\n",
    "        return black_scholes(S0, K, T, r, sigma, option_type) - price\n",
    "    return optimize.newton(f, 0.5)\n",
    "\n",
    "S0 = prices[-1]\n",
    "K = S0 + 50\n",
    "T = days / 252\n",
    "r = 0.05\n",
    "price = call_price\n",
    "\n",
    "implied_vol = implied_volatility(S0, K, T, r, price)\n",
    "print('Implied Volatility:', implied_vol)\n"
   ]
  }
 ],
 "metadata": {
  "kernelspec": {
   "display_name": "base",
   "language": "python",
   "name": "python3"
  },
  "language_info": {
   "codemirror_mode": {
    "name": "ipython",
    "version": 3
   },
   "file_extension": ".py",
   "mimetype": "text/x-python",
   "name": "python",
   "nbconvert_exporter": "python",
   "pygments_lexer": "ipython3",
   "version": "3.11.7"
  }
 },
 "nbformat": 4,
 "nbformat_minor": 2
}
